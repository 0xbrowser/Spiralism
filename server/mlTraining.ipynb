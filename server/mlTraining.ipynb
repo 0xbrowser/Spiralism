{
 "cells": [
  {
   "cell_type": "code",
   "execution_count": 20,
   "id": "89309328",
   "metadata": {},
   "outputs": [
    {
     "name": "stdout",
     "output_type": "stream",
     "text": [
      "[LightGBM] [Info] Number of positive: 140, number of negative: 2401\n",
      "[LightGBM] [Info] Auto-choosing col-wise multi-threading, the overhead of testing was 0.015783 seconds.\n",
      "You can set `force_col_wise=true` to remove the overhead.\n",
      "[LightGBM] [Info] Total Bins 8357\n",
      "[LightGBM] [Info] Number of data points in the train set: 2541, number of used features: 91\n",
      "[LightGBM] [Info] [binary:BoostFromScore]: pavg=0.055096 -> initscore=-2.841998\n",
      "[LightGBM] [Info] Start training from score -2.841998\n"
     ]
    }
   ],
   "source": [
    "\n",
    "import pandas as pd\n",
    "import numpy as np\n",
    "\n",
    "from sklearn.linear_model import LogisticRegression\n",
    "from sklearn.neighbors import KNeighborsClassifier\n",
    "from sklearn.svm import SVC\n",
    "from sklearn.tree import DecisionTreeClassifier\n",
    "from sklearn.ensemble import RandomForestClassifier\n",
    "from sklearn.ensemble import AdaBoostClassifier\n",
    "from xgboost import XGBClassifier\n",
    "from lightgbm import LGBMClassifier\n",
    "from catboost import CatBoostClassifier\n",
    "from sklearn.neural_network import MLPClassifier\n",
    "\n",
    "from sklearn.model_selection import train_test_split\n",
    "\n",
    "from sklearn.metrics import precision_score, recall_score, f1_score, accuracy_score, roc_auc_score\n",
    "\n",
    "import warnings\n",
    "warnings.filterwarnings(\"ignore\")\n",
    "\n",
    "# Load data\n",
    "opcodeDataset = pd.read_csv(r'feature/opcodeFeature.csv',)\n",
    "accountDataSet = pd.read_csv(r'feature/accountFeature.csv',)\n",
    "\n",
    "# Merge dataset\n",
    "dataset = pd.merge(opcodeDataset,accountDataSet,on='addr')\n",
    "\n",
    "# Split data into train and test sets\n",
    "X = dataset.iloc[:,1:92]\n",
    "Y = dataset.iloc[:,92]\n",
    "X_train,X_test,y_train,y_test=train_test_split(X,Y,test_size=0.33,random_state=7)\n",
    "\n",
    "# Create a model dictionary\n",
    "models = {\"Logistic Regression\": LogisticRegression(),\n",
    "          \"K-Nearest Neighbors\": KNeighborsClassifier(),\n",
    "          \"Support Vector Machine\": SVC(probability=True),\n",
    "          \"Decision Tree\": DecisionTreeClassifier(),\n",
    "          \"Random Forest\": RandomForestClassifier(),\n",
    "          \"Ada Boost\": AdaBoostClassifier(),\n",
    "          \"XGBoost\": XGBClassifier(),\n",
    "          \"LightGBM\": LGBMClassifier(),\n",
    "          \"CatBoost\": CatBoostClassifier(verbose=0),\n",
    "          \"Neural Network\": MLPClassifier()\n",
    "         }\n",
    "\n",
    "# Fit the models\n",
    "for name, model in models.items():\n",
    "    model.fit(X_train, y_train)"
   ]
  },
  {
   "cell_type": "code",
   "execution_count": 22,
   "id": "2532f4a5",
   "metadata": {},
   "outputs": [
    {
     "name": "stdout",
     "output_type": "stream",
     "text": [
      "Accuracy\n",
      "Logistic Regression: 0.950\n",
      "K-Nearest Neighbors: 0.958\n",
      "Support Vector Machine: 0.950\n",
      "Decision Tree: 0.968\n",
      "Random Forest: 0.984\n",
      "Ada Boost: 0.970\n",
      "XGBoost: 0.982\n",
      "LightGBM: 0.983\n",
      "CatBoost: 0.981\n",
      "Neural Network: 0.937\n"
     ]
    }
   ],
   "source": [
    "# Accuracy\n",
    "print(\"Accuracy\")\n",
    "for name, model in models.items():\n",
    "    print(name + \": {:.3f}\".format(accuracy_score(y_test, model.predict(X_test))))"
   ]
  },
  {
   "cell_type": "code",
   "execution_count": 23,
   "id": "0ecf7cf8",
   "metadata": {
    "scrolled": true
   },
   "outputs": [
    {
     "name": "stdout",
     "output_type": "stream",
     "text": [
      "Precision\n",
      "Logistic Regression: 0.000\n",
      "K-Nearest Neighbors: 0.634\n",
      "Support Vector Machine: 0.000\n",
      "Decision Tree: 0.672\n",
      "Random Forest: 0.957\n",
      "Ada Boost: 0.778\n",
      "XGBoost: 0.956\n",
      "LightGBM: 0.977\n",
      "CatBoost: 0.915\n",
      "Neural Network: 0.395\n"
     ]
    }
   ],
   "source": [
    "# Precision\n",
    "print(\"Precision\")\n",
    "for name, model in models.items():\n",
    "    print(name + \": {:.3f}\".format(precision_score(y_test, model.predict(X_test))))"
   ]
  },
  {
   "cell_type": "code",
   "execution_count": 24,
   "id": "fc75f886",
   "metadata": {},
   "outputs": [
    {
     "name": "stdout",
     "output_type": "stream",
     "text": [
      "Recall\n",
      "Logistic Regression: 0.000\n",
      "K-Nearest Neighbors: 0.413\n",
      "Support Vector Machine: 0.000\n",
      "Decision Tree: 0.714\n",
      "Random Forest: 0.714\n",
      "Ada Boost: 0.556\n",
      "XGBoost: 0.683\n",
      "LightGBM: 0.683\n",
      "CatBoost: 0.683\n",
      "Neural Network: 0.476\n"
     ]
    }
   ],
   "source": [
    "# Recall\n",
    "print(\"Recall\")\n",
    "for name, model in models.items():\n",
    "    print(name + \": {:.3f}\".format(recall_score(y_test, model.predict(X_test))))"
   ]
  },
  {
   "cell_type": "code",
   "execution_count": 25,
   "id": "d7e9453c",
   "metadata": {},
   "outputs": [
    {
     "name": "stdout",
     "output_type": "stream",
     "text": [
      "F1-Score\n",
      "Logistic Regression: 0.000\n",
      "K-Nearest Neighbors: 0.500\n",
      "Support Vector Machine: 0.000\n",
      "Decision Tree: 0.692\n",
      "Random Forest: 0.818\n",
      "Ada Boost: 0.648\n",
      "XGBoost: 0.796\n",
      "LightGBM: 0.804\n",
      "CatBoost: 0.782\n",
      "Neural Network: 0.432\n"
     ]
    }
   ],
   "source": [
    "# F1-score\n",
    "print(\"F1-Score\")\n",
    "for name, model in models.items():\n",
    "    print(name + \": {:.3f}\".format(f1_score(y_test, model.predict(X_test))))"
   ]
  },
  {
   "cell_type": "code",
   "execution_count": 26,
   "id": "6185cce7",
   "metadata": {},
   "outputs": [
    {
     "name": "stdout",
     "output_type": "stream",
     "text": [
      "AUC Score\n",
      "Logistic Regression: 0.441\n",
      "K-Nearest Neighbors: 0.772\n",
      "Support Vector Machine: 0.561\n",
      "Decision Tree: 0.848\n",
      "Random Forest: 0.947\n",
      "Ada Boost: 0.931\n",
      "XGBoost: 0.938\n",
      "LightGBM: 0.952\n",
      "CatBoost: 0.940\n",
      "Neural Network: 0.632\n"
     ]
    }
   ],
   "source": [
    "# AUC Score\n",
    "print(\"AUC Score\")\n",
    "for name, model in models.items():\n",
    "    print(name + \": {:.3f}\".format(roc_auc_score(y_test,model.predict_proba(X_test)[:,1])))"
   ]
  }
 ],
 "metadata": {
  "kernelspec": {
   "display_name": "Python 3 (ipykernel)",
   "language": "python",
   "name": "python3"
  },
  "language_info": {
   "codemirror_mode": {
    "name": "ipython",
    "version": 3
   },
   "file_extension": ".py",
   "mimetype": "text/x-python",
   "name": "python",
   "nbconvert_exporter": "python",
   "pygments_lexer": "ipython3",
   "version": "3.11.0"
  },
  "vscode": {
   "interpreter": {
    "hash": "c261aea317cc0286b3b3261fbba9abdec21eaa57589985bb7a274bf54d6cc0a7"
   }
  }
 },
 "nbformat": 4,
 "nbformat_minor": 5
}
